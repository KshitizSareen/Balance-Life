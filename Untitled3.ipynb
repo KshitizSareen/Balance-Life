{
  "nbformat": 4,
  "nbformat_minor": 0,
  "metadata": {
    "colab": {
      "provenance": [],
      "authorship_tag": "ABX9TyMLUz2npcBSaz0Ba4q8c3N8",
      "include_colab_link": true
    },
    "kernelspec": {
      "name": "python3",
      "display_name": "Python 3"
    },
    "language_info": {
      "name": "python"
    }
  },
  "cells": [
    {
      "cell_type": "markdown",
      "metadata": {
        "id": "view-in-github",
        "colab_type": "text"
      },
      "source": [
        "<a href=\"https://colab.research.google.com/github/KshitizSareen/Balance-Life/blob/master/Untitled3.ipynb\" target=\"_parent\"><img src=\"https://colab.research.google.com/assets/colab-badge.svg\" alt=\"Open In Colab\"/></a>"
      ]
    },
    {
      "cell_type": "code",
      "execution_count": null,
      "metadata": {
        "id": "I5U9-2nkuVxW",
        "outputId": "8110c9fb-0ac3-4ec0-ab22-9581e408017a",
        "colab": {
          "base_uri": "https://localhost:8080/"
        }
      },
      "outputs": [
        {
          "output_type": "stream",
          "name": "stdout",
          "text": [
            "Test New\n"
          ]
        }
      ],
      "source": [
        "print(\"Test New\")"
      ]
    },
    {
      "cell_type": "code",
      "source": [
        "print(\"Test 2 new\")"
      ],
      "metadata": {
        "colab": {
          "base_uri": "https://localhost:8080/"
        },
        "id": "Pwg8751KumYw",
        "outputId": "69b371d4-8d4c-43c8-9871-49290d056cc8"
      },
      "execution_count": null,
      "outputs": [
        {
          "output_type": "stream",
          "name": "stdout",
          "text": [
            "Test 2 new\n"
          ]
        }
      ]
    }
  ]
}